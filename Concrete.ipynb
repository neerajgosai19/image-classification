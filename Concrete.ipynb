{
  "nbformat": 4,
  "nbformat_minor": 0,
  "metadata": {
    "kernelspec": {
      "name": "python3",
      "display_name": "Python 3.6",
      "language": "python"
    },
    "language_info": {
      "name": "python",
      "version": "3.6.9",
      "mimetype": "text/x-python",
      "codemirror_mode": {
        "name": "ipython",
        "version": 3
      },
      "pygments_lexer": "ipython3",
      "nbconvert_exporter": "python",
      "file_extension": ".py"
    },
    "colab": {
      "name": "Concrete.ipynb",
      "provenance": [],
      "collapsed_sections": [],
      "include_colab_link": true
    }
  },
  "cells": [
    {
      "cell_type": "markdown",
      "metadata": {
        "id": "view-in-github",
        "colab_type": "text"
      },
      "source": [
        "<a href=\"https://colab.research.google.com/github/neerajgosai19/image-classification/blob/master/Concrete.ipynb\" target=\"_parent\"><img src=\"https://colab.research.google.com/assets/colab-badge.svg\" alt=\"Open In Colab\"/></a>"
      ]
    },
    {
      "cell_type": "code",
      "metadata": {
        "id": "GF19in0jhPYS"
      },
      "source": [
        "import pandas as pd\n",
        "import numpy as np"
      ],
      "execution_count": 1,
      "outputs": []
    },
    {
      "cell_type": "markdown",
      "metadata": {
        "id": "saexRlbWiGwC"
      },
      "source": [
        "Deep Learning & Neural Networks with Keras .............\r\n",
        "increasing the number of training epochs and changing number of hidden layers and you will see how changing these parameters impacts the performance of the model.\r\n"
      ]
    },
    {
      "cell_type": "code",
      "metadata": {
        "colab": {
          "base_uri": "https://localhost:8080/",
          "height": 202
        },
        "id": "5ZhMmqHqhPYh",
        "outputId": "685d0674-a641-414f-b158-7cc2ec5ad49c"
      },
      "source": [
        "concrete_data = pd.read_csv( 'https://cocl.us/concrete_data')\n",
        "concrete_data.head()"
      ],
      "execution_count": 2,
      "outputs": [
        {
          "output_type": "execute_result",
          "data": {
            "text/html": [
              "<div>\n",
              "<style scoped>\n",
              "    .dataframe tbody tr th:only-of-type {\n",
              "        vertical-align: middle;\n",
              "    }\n",
              "\n",
              "    .dataframe tbody tr th {\n",
              "        vertical-align: top;\n",
              "    }\n",
              "\n",
              "    .dataframe thead th {\n",
              "        text-align: right;\n",
              "    }\n",
              "</style>\n",
              "<table border=\"1\" class=\"dataframe\">\n",
              "  <thead>\n",
              "    <tr style=\"text-align: right;\">\n",
              "      <th></th>\n",
              "      <th>Cement</th>\n",
              "      <th>Blast Furnace Slag</th>\n",
              "      <th>Fly Ash</th>\n",
              "      <th>Water</th>\n",
              "      <th>Superplasticizer</th>\n",
              "      <th>Coarse Aggregate</th>\n",
              "      <th>Fine Aggregate</th>\n",
              "      <th>Age</th>\n",
              "      <th>Strength</th>\n",
              "    </tr>\n",
              "  </thead>\n",
              "  <tbody>\n",
              "    <tr>\n",
              "      <th>0</th>\n",
              "      <td>540.0</td>\n",
              "      <td>0.0</td>\n",
              "      <td>0.0</td>\n",
              "      <td>162.0</td>\n",
              "      <td>2.5</td>\n",
              "      <td>1040.0</td>\n",
              "      <td>676.0</td>\n",
              "      <td>28</td>\n",
              "      <td>79.99</td>\n",
              "    </tr>\n",
              "    <tr>\n",
              "      <th>1</th>\n",
              "      <td>540.0</td>\n",
              "      <td>0.0</td>\n",
              "      <td>0.0</td>\n",
              "      <td>162.0</td>\n",
              "      <td>2.5</td>\n",
              "      <td>1055.0</td>\n",
              "      <td>676.0</td>\n",
              "      <td>28</td>\n",
              "      <td>61.89</td>\n",
              "    </tr>\n",
              "    <tr>\n",
              "      <th>2</th>\n",
              "      <td>332.5</td>\n",
              "      <td>142.5</td>\n",
              "      <td>0.0</td>\n",
              "      <td>228.0</td>\n",
              "      <td>0.0</td>\n",
              "      <td>932.0</td>\n",
              "      <td>594.0</td>\n",
              "      <td>270</td>\n",
              "      <td>40.27</td>\n",
              "    </tr>\n",
              "    <tr>\n",
              "      <th>3</th>\n",
              "      <td>332.5</td>\n",
              "      <td>142.5</td>\n",
              "      <td>0.0</td>\n",
              "      <td>228.0</td>\n",
              "      <td>0.0</td>\n",
              "      <td>932.0</td>\n",
              "      <td>594.0</td>\n",
              "      <td>365</td>\n",
              "      <td>41.05</td>\n",
              "    </tr>\n",
              "    <tr>\n",
              "      <th>4</th>\n",
              "      <td>198.6</td>\n",
              "      <td>132.4</td>\n",
              "      <td>0.0</td>\n",
              "      <td>192.0</td>\n",
              "      <td>0.0</td>\n",
              "      <td>978.4</td>\n",
              "      <td>825.5</td>\n",
              "      <td>360</td>\n",
              "      <td>44.30</td>\n",
              "    </tr>\n",
              "  </tbody>\n",
              "</table>\n",
              "</div>"
            ],
            "text/plain": [
              "   Cement  Blast Furnace Slag  Fly Ash  ...  Fine Aggregate  Age  Strength\n",
              "0   540.0                 0.0      0.0  ...           676.0   28     79.99\n",
              "1   540.0                 0.0      0.0  ...           676.0   28     61.89\n",
              "2   332.5               142.5      0.0  ...           594.0  270     40.27\n",
              "3   332.5               142.5      0.0  ...           594.0  365     41.05\n",
              "4   198.6               132.4      0.0  ...           825.5  360     44.30\n",
              "\n",
              "[5 rows x 9 columns]"
            ]
          },
          "metadata": {
            "tags": []
          },
          "execution_count": 2
        }
      ]
    },
    {
      "cell_type": "code",
      "metadata": {
        "colab": {
          "base_uri": "https://localhost:8080/"
        },
        "id": "_dtFei8JhPYn",
        "outputId": "ee4e6bdb-a5a9-49e8-c79d-a1c94fecefd2"
      },
      "source": [
        "concrete_data.shape"
      ],
      "execution_count": 3,
      "outputs": [
        {
          "output_type": "execute_result",
          "data": {
            "text/plain": [
              "(1030, 9)"
            ]
          },
          "metadata": {
            "tags": []
          },
          "execution_count": 3
        }
      ]
    },
    {
      "cell_type": "code",
      "metadata": {
        "colab": {
          "base_uri": "https://localhost:8080/",
          "height": 294
        },
        "id": "E4DRmC-KhPYo",
        "outputId": "831ee091-2090-4dbe-98f8-bdc12708b9ba"
      },
      "source": [
        "concrete_data.describe()"
      ],
      "execution_count": 4,
      "outputs": [
        {
          "output_type": "execute_result",
          "data": {
            "text/html": [
              "<div>\n",
              "<style scoped>\n",
              "    .dataframe tbody tr th:only-of-type {\n",
              "        vertical-align: middle;\n",
              "    }\n",
              "\n",
              "    .dataframe tbody tr th {\n",
              "        vertical-align: top;\n",
              "    }\n",
              "\n",
              "    .dataframe thead th {\n",
              "        text-align: right;\n",
              "    }\n",
              "</style>\n",
              "<table border=\"1\" class=\"dataframe\">\n",
              "  <thead>\n",
              "    <tr style=\"text-align: right;\">\n",
              "      <th></th>\n",
              "      <th>Cement</th>\n",
              "      <th>Blast Furnace Slag</th>\n",
              "      <th>Fly Ash</th>\n",
              "      <th>Water</th>\n",
              "      <th>Superplasticizer</th>\n",
              "      <th>Coarse Aggregate</th>\n",
              "      <th>Fine Aggregate</th>\n",
              "      <th>Age</th>\n",
              "      <th>Strength</th>\n",
              "    </tr>\n",
              "  </thead>\n",
              "  <tbody>\n",
              "    <tr>\n",
              "      <th>count</th>\n",
              "      <td>1030.000000</td>\n",
              "      <td>1030.000000</td>\n",
              "      <td>1030.000000</td>\n",
              "      <td>1030.000000</td>\n",
              "      <td>1030.000000</td>\n",
              "      <td>1030.000000</td>\n",
              "      <td>1030.000000</td>\n",
              "      <td>1030.000000</td>\n",
              "      <td>1030.000000</td>\n",
              "    </tr>\n",
              "    <tr>\n",
              "      <th>mean</th>\n",
              "      <td>281.167864</td>\n",
              "      <td>73.895825</td>\n",
              "      <td>54.188350</td>\n",
              "      <td>181.567282</td>\n",
              "      <td>6.204660</td>\n",
              "      <td>972.918932</td>\n",
              "      <td>773.580485</td>\n",
              "      <td>45.662136</td>\n",
              "      <td>35.817961</td>\n",
              "    </tr>\n",
              "    <tr>\n",
              "      <th>std</th>\n",
              "      <td>104.506364</td>\n",
              "      <td>86.279342</td>\n",
              "      <td>63.997004</td>\n",
              "      <td>21.354219</td>\n",
              "      <td>5.973841</td>\n",
              "      <td>77.753954</td>\n",
              "      <td>80.175980</td>\n",
              "      <td>63.169912</td>\n",
              "      <td>16.705742</td>\n",
              "    </tr>\n",
              "    <tr>\n",
              "      <th>min</th>\n",
              "      <td>102.000000</td>\n",
              "      <td>0.000000</td>\n",
              "      <td>0.000000</td>\n",
              "      <td>121.800000</td>\n",
              "      <td>0.000000</td>\n",
              "      <td>801.000000</td>\n",
              "      <td>594.000000</td>\n",
              "      <td>1.000000</td>\n",
              "      <td>2.330000</td>\n",
              "    </tr>\n",
              "    <tr>\n",
              "      <th>25%</th>\n",
              "      <td>192.375000</td>\n",
              "      <td>0.000000</td>\n",
              "      <td>0.000000</td>\n",
              "      <td>164.900000</td>\n",
              "      <td>0.000000</td>\n",
              "      <td>932.000000</td>\n",
              "      <td>730.950000</td>\n",
              "      <td>7.000000</td>\n",
              "      <td>23.710000</td>\n",
              "    </tr>\n",
              "    <tr>\n",
              "      <th>50%</th>\n",
              "      <td>272.900000</td>\n",
              "      <td>22.000000</td>\n",
              "      <td>0.000000</td>\n",
              "      <td>185.000000</td>\n",
              "      <td>6.400000</td>\n",
              "      <td>968.000000</td>\n",
              "      <td>779.500000</td>\n",
              "      <td>28.000000</td>\n",
              "      <td>34.445000</td>\n",
              "    </tr>\n",
              "    <tr>\n",
              "      <th>75%</th>\n",
              "      <td>350.000000</td>\n",
              "      <td>142.950000</td>\n",
              "      <td>118.300000</td>\n",
              "      <td>192.000000</td>\n",
              "      <td>10.200000</td>\n",
              "      <td>1029.400000</td>\n",
              "      <td>824.000000</td>\n",
              "      <td>56.000000</td>\n",
              "      <td>46.135000</td>\n",
              "    </tr>\n",
              "    <tr>\n",
              "      <th>max</th>\n",
              "      <td>540.000000</td>\n",
              "      <td>359.400000</td>\n",
              "      <td>200.100000</td>\n",
              "      <td>247.000000</td>\n",
              "      <td>32.200000</td>\n",
              "      <td>1145.000000</td>\n",
              "      <td>992.600000</td>\n",
              "      <td>365.000000</td>\n",
              "      <td>82.600000</td>\n",
              "    </tr>\n",
              "  </tbody>\n",
              "</table>\n",
              "</div>"
            ],
            "text/plain": [
              "            Cement  Blast Furnace Slag  ...          Age     Strength\n",
              "count  1030.000000         1030.000000  ...  1030.000000  1030.000000\n",
              "mean    281.167864           73.895825  ...    45.662136    35.817961\n",
              "std     104.506364           86.279342  ...    63.169912    16.705742\n",
              "min     102.000000            0.000000  ...     1.000000     2.330000\n",
              "25%     192.375000            0.000000  ...     7.000000    23.710000\n",
              "50%     272.900000           22.000000  ...    28.000000    34.445000\n",
              "75%     350.000000          142.950000  ...    56.000000    46.135000\n",
              "max     540.000000          359.400000  ...   365.000000    82.600000\n",
              "\n",
              "[8 rows x 9 columns]"
            ]
          },
          "metadata": {
            "tags": []
          },
          "execution_count": 4
        }
      ]
    },
    {
      "cell_type": "code",
      "metadata": {
        "colab": {
          "base_uri": "https://localhost:8080/"
        },
        "id": "5TjXCPIfhPYp",
        "outputId": "3e978226-ede7-4bd7-98d3-05a2a5fab6b0"
      },
      "source": [
        "concrete_data.isnull().sum()"
      ],
      "execution_count": 5,
      "outputs": [
        {
          "output_type": "execute_result",
          "data": {
            "text/plain": [
              "Cement                0\n",
              "Blast Furnace Slag    0\n",
              "Fly Ash               0\n",
              "Water                 0\n",
              "Superplasticizer      0\n",
              "Coarse Aggregate      0\n",
              "Fine Aggregate        0\n",
              "Age                   0\n",
              "Strength              0\n",
              "dtype: int64"
            ]
          },
          "metadata": {
            "tags": []
          },
          "execution_count": 5
        }
      ]
    },
    {
      "cell_type": "code",
      "metadata": {
        "id": "rC_PRXf1hPYp"
      },
      "source": [
        "concrete_data_columns = concrete_data.columns\n",
        "\n",
        "predictors = concrete_data[concrete_data_columns[concrete_data_columns != 'Strength']]\n",
        "target = concrete_data['Strength'] "
      ],
      "execution_count": 6,
      "outputs": []
    },
    {
      "cell_type": "code",
      "metadata": {
        "colab": {
          "base_uri": "https://localhost:8080/"
        },
        "id": "rAtb3lxVhPYq",
        "outputId": "4d792102-8806-401a-9cde-b6394e8aad4d"
      },
      "source": [
        "predictors.head()\n",
        "target.head()"
      ],
      "execution_count": 7,
      "outputs": [
        {
          "output_type": "execute_result",
          "data": {
            "text/plain": [
              "0    79.99\n",
              "1    61.89\n",
              "2    40.27\n",
              "3    41.05\n",
              "4    44.30\n",
              "Name: Strength, dtype: float64"
            ]
          },
          "metadata": {
            "tags": []
          },
          "execution_count": 7
        }
      ]
    },
    {
      "cell_type": "code",
      "metadata": {
        "colab": {
          "base_uri": "https://localhost:8080/"
        },
        "id": "ZoafKPqthPYq",
        "outputId": "4d0f82e7-49b3-473b-867c-eb09834f18f9"
      },
      "source": [
        "predictors.mean()"
      ],
      "execution_count": 8,
      "outputs": [
        {
          "output_type": "execute_result",
          "data": {
            "text/plain": [
              "Cement                281.167864\n",
              "Blast Furnace Slag     73.895825\n",
              "Fly Ash                54.188350\n",
              "Water                 181.567282\n",
              "Superplasticizer        6.204660\n",
              "Coarse Aggregate      972.918932\n",
              "Fine Aggregate        773.580485\n",
              "Age                    45.662136\n",
              "dtype: float64"
            ]
          },
          "metadata": {
            "tags": []
          },
          "execution_count": 8
        }
      ]
    },
    {
      "cell_type": "code",
      "metadata": {
        "colab": {
          "base_uri": "https://localhost:8080/"
        },
        "id": "Z94tqj82hPYr",
        "outputId": "7186b67b-b662-4673-9aa6-96973c786c54"
      },
      "source": [
        " predictors.std()"
      ],
      "execution_count": 9,
      "outputs": [
        {
          "output_type": "execute_result",
          "data": {
            "text/plain": [
              "Cement                104.506364\n",
              "Blast Furnace Slag     86.279342\n",
              "Fly Ash                63.997004\n",
              "Water                  21.354219\n",
              "Superplasticizer        5.973841\n",
              "Coarse Aggregate       77.753954\n",
              "Fine Aggregate         80.175980\n",
              "Age                    63.169912\n",
              "dtype: float64"
            ]
          },
          "metadata": {
            "tags": []
          },
          "execution_count": 9
        }
      ]
    },
    {
      "cell_type": "code",
      "metadata": {
        "colab": {
          "base_uri": "https://localhost:8080/",
          "height": 202
        },
        "id": "vubMgLYghPYr",
        "outputId": "cd33c32e-b2e3-4321-e8bc-385c171e1d9c"
      },
      "source": [
        "predictors_norm = (predictors - predictors.mean()) / predictors.std()\n",
        "predictors_norm.head()"
      ],
      "execution_count": 10,
      "outputs": [
        {
          "output_type": "execute_result",
          "data": {
            "text/html": [
              "<div>\n",
              "<style scoped>\n",
              "    .dataframe tbody tr th:only-of-type {\n",
              "        vertical-align: middle;\n",
              "    }\n",
              "\n",
              "    .dataframe tbody tr th {\n",
              "        vertical-align: top;\n",
              "    }\n",
              "\n",
              "    .dataframe thead th {\n",
              "        text-align: right;\n",
              "    }\n",
              "</style>\n",
              "<table border=\"1\" class=\"dataframe\">\n",
              "  <thead>\n",
              "    <tr style=\"text-align: right;\">\n",
              "      <th></th>\n",
              "      <th>Cement</th>\n",
              "      <th>Blast Furnace Slag</th>\n",
              "      <th>Fly Ash</th>\n",
              "      <th>Water</th>\n",
              "      <th>Superplasticizer</th>\n",
              "      <th>Coarse Aggregate</th>\n",
              "      <th>Fine Aggregate</th>\n",
              "      <th>Age</th>\n",
              "    </tr>\n",
              "  </thead>\n",
              "  <tbody>\n",
              "    <tr>\n",
              "      <th>0</th>\n",
              "      <td>2.476712</td>\n",
              "      <td>-0.856472</td>\n",
              "      <td>-0.846733</td>\n",
              "      <td>-0.916319</td>\n",
              "      <td>-0.620147</td>\n",
              "      <td>0.862735</td>\n",
              "      <td>-1.217079</td>\n",
              "      <td>-0.279597</td>\n",
              "    </tr>\n",
              "    <tr>\n",
              "      <th>1</th>\n",
              "      <td>2.476712</td>\n",
              "      <td>-0.856472</td>\n",
              "      <td>-0.846733</td>\n",
              "      <td>-0.916319</td>\n",
              "      <td>-0.620147</td>\n",
              "      <td>1.055651</td>\n",
              "      <td>-1.217079</td>\n",
              "      <td>-0.279597</td>\n",
              "    </tr>\n",
              "    <tr>\n",
              "      <th>2</th>\n",
              "      <td>0.491187</td>\n",
              "      <td>0.795140</td>\n",
              "      <td>-0.846733</td>\n",
              "      <td>2.174405</td>\n",
              "      <td>-1.038638</td>\n",
              "      <td>-0.526262</td>\n",
              "      <td>-2.239829</td>\n",
              "      <td>3.551340</td>\n",
              "    </tr>\n",
              "    <tr>\n",
              "      <th>3</th>\n",
              "      <td>0.491187</td>\n",
              "      <td>0.795140</td>\n",
              "      <td>-0.846733</td>\n",
              "      <td>2.174405</td>\n",
              "      <td>-1.038638</td>\n",
              "      <td>-0.526262</td>\n",
              "      <td>-2.239829</td>\n",
              "      <td>5.055221</td>\n",
              "    </tr>\n",
              "    <tr>\n",
              "      <th>4</th>\n",
              "      <td>-0.790075</td>\n",
              "      <td>0.678079</td>\n",
              "      <td>-0.846733</td>\n",
              "      <td>0.488555</td>\n",
              "      <td>-1.038638</td>\n",
              "      <td>0.070492</td>\n",
              "      <td>0.647569</td>\n",
              "      <td>4.976069</td>\n",
              "    </tr>\n",
              "  </tbody>\n",
              "</table>\n",
              "</div>"
            ],
            "text/plain": [
              "     Cement  Blast Furnace Slag  ...  Fine Aggregate       Age\n",
              "0  2.476712           -0.856472  ...       -1.217079 -0.279597\n",
              "1  2.476712           -0.856472  ...       -1.217079 -0.279597\n",
              "2  0.491187            0.795140  ...       -2.239829  3.551340\n",
              "3  0.491187            0.795140  ...       -2.239829  5.055221\n",
              "4 -0.790075            0.678079  ...        0.647569  4.976069\n",
              "\n",
              "[5 rows x 8 columns]"
            ]
          },
          "metadata": {
            "tags": []
          },
          "execution_count": 10
        }
      ]
    },
    {
      "cell_type": "code",
      "metadata": {
        "id": "miDwTG2KhPYs"
      },
      "source": [
        "n_cols = predictors_norm.shape[1]"
      ],
      "execution_count": 11,
      "outputs": []
    },
    {
      "cell_type": "code",
      "metadata": {
        "id": "JtT3awzhhPYs"
      },
      "source": [
        "import keras"
      ],
      "execution_count": 12,
      "outputs": []
    },
    {
      "cell_type": "code",
      "metadata": {
        "id": "N_fFv32ShPYt"
      },
      "source": [
        "from keras.models import Sequential\n",
        "from keras.layers import Dense\n",
        "from keras.utils import to_categorical\n",
        "\n",
        "def regression_model():\n",
        "    \n",
        "    model = Sequential()\n",
        "    model.add(Dense(10, activation='relu', input_shape=(n_cols,)))\n",
        "    model.add(Dense(10, activation='relu'))\n",
        "    model.add(Dense(1))\n",
        "    \n",
        "    \n",
        "    model.compile(optimizer='adam', loss='mean_squared_error')\n",
        "    return model\n"
      ],
      "execution_count": 13,
      "outputs": []
    },
    {
      "cell_type": "code",
      "metadata": {
        "id": "rPKD90AohPYt"
      },
      "source": [
        "model = regression_model()"
      ],
      "execution_count": 14,
      "outputs": []
    },
    {
      "cell_type": "code",
      "metadata": {
        "colab": {
          "base_uri": "https://localhost:8080/"
        },
        "id": "5GeVTLqThPYu",
        "outputId": "801b924f-23a7-4978-811e-0fcb95392125"
      },
      "source": [
        "model.fit(predictors_norm, target, validation_split=0.3, epochs=10, verbose=2)"
      ],
      "execution_count": 15,
      "outputs": [
        {
          "output_type": "stream",
          "text": [
            "Epoch 1/10\n",
            "23/23 - 1s - loss: 1708.3745 - val_loss: 1234.7250\n",
            "Epoch 2/10\n",
            "23/23 - 0s - loss: 1683.4666 - val_loss: 1220.2926\n",
            "Epoch 3/10\n",
            "23/23 - 0s - loss: 1655.8279 - val_loss: 1204.1024\n",
            "Epoch 4/10\n",
            "23/23 - 0s - loss: 1624.0758 - val_loss: 1184.8036\n",
            "Epoch 5/10\n",
            "23/23 - 0s - loss: 1586.5599 - val_loss: 1161.2168\n",
            "Epoch 6/10\n",
            "23/23 - 0s - loss: 1541.7413 - val_loss: 1132.2451\n",
            "Epoch 7/10\n",
            "23/23 - 0s - loss: 1486.2980 - val_loss: 1096.4871\n",
            "Epoch 8/10\n",
            "23/23 - 0s - loss: 1416.6326 - val_loss: 1052.1996\n",
            "Epoch 9/10\n",
            "23/23 - 0s - loss: 1330.7507 - val_loss: 996.5598\n",
            "Epoch 10/10\n",
            "23/23 - 0s - loss: 1224.3615 - val_loss: 930.3253\n"
          ],
          "name": "stdout"
        },
        {
          "output_type": "execute_result",
          "data": {
            "text/plain": [
              "<tensorflow.python.keras.callbacks.History at 0x7fa55499f2b0>"
            ]
          },
          "metadata": {
            "tags": []
          },
          "execution_count": 15
        }
      ]
    },
    {
      "cell_type": "code",
      "metadata": {
        "id": "vwX7DSlFhPYu"
      },
      "source": [
        "from sklearn.model_selection import train_test_split\n",
        "X_train, X_test, y_train, y_test = train_test_split(predictors, target, test_size=0.3, random_state=42)\n"
      ],
      "execution_count": 16,
      "outputs": []
    },
    {
      "cell_type": "code",
      "metadata": {
        "id": "l0EdSvV6hPYu"
      },
      "source": [
        "model = regression_model()"
      ],
      "execution_count": 17,
      "outputs": []
    },
    {
      "cell_type": "code",
      "metadata": {
        "colab": {
          "base_uri": "https://localhost:8080/"
        },
        "id": "gXPThAA_hPYv",
        "outputId": "28877659-91bd-48cf-fa3a-da4fb13d2b44"
      },
      "source": [
        "epochs = 50\n",
        "model.fit(X_train, y_train, epochs=epochs, verbose=1)"
      ],
      "execution_count": 18,
      "outputs": [
        {
          "output_type": "stream",
          "text": [
            "Epoch 1/50\n",
            "23/23 [==============================] - 0s 1ms/step - loss: 373.1126\n",
            "Epoch 2/50\n",
            "23/23 [==============================] - 0s 1ms/step - loss: 303.3423\n",
            "Epoch 3/50\n",
            "23/23 [==============================] - 0s 1ms/step - loss: 259.8542\n",
            "Epoch 4/50\n",
            "23/23 [==============================] - 0s 1ms/step - loss: 249.9253\n",
            "Epoch 5/50\n",
            "23/23 [==============================] - 0s 1ms/step - loss: 242.7994\n",
            "Epoch 6/50\n",
            "23/23 [==============================] - 0s 1ms/step - loss: 238.9011\n",
            "Epoch 7/50\n",
            "23/23 [==============================] - 0s 1ms/step - loss: 240.2638\n",
            "Epoch 8/50\n",
            "23/23 [==============================] - 0s 1ms/step - loss: 208.1096\n",
            "Epoch 9/50\n",
            "23/23 [==============================] - 0s 1ms/step - loss: 212.1870\n",
            "Epoch 10/50\n",
            "23/23 [==============================] - 0s 1ms/step - loss: 191.0973\n",
            "Epoch 11/50\n",
            "23/23 [==============================] - 0s 1ms/step - loss: 167.9083\n",
            "Epoch 12/50\n",
            "23/23 [==============================] - 0s 1ms/step - loss: 170.4270\n",
            "Epoch 13/50\n",
            "23/23 [==============================] - 0s 1ms/step - loss: 170.4186\n",
            "Epoch 14/50\n",
            "23/23 [==============================] - 0s 1ms/step - loss: 165.1678\n",
            "Epoch 15/50\n",
            "23/23 [==============================] - 0s 1ms/step - loss: 148.8310\n",
            "Epoch 16/50\n",
            "23/23 [==============================] - 0s 1ms/step - loss: 155.6395\n",
            "Epoch 17/50\n",
            "23/23 [==============================] - 0s 1ms/step - loss: 143.8627\n",
            "Epoch 18/50\n",
            "23/23 [==============================] - 0s 1ms/step - loss: 148.9299\n",
            "Epoch 19/50\n",
            "23/23 [==============================] - 0s 1ms/step - loss: 133.4018\n",
            "Epoch 20/50\n",
            "23/23 [==============================] - 0s 1ms/step - loss: 134.0328\n",
            "Epoch 21/50\n",
            "23/23 [==============================] - 0s 1ms/step - loss: 136.3091\n",
            "Epoch 22/50\n",
            "23/23 [==============================] - 0s 1ms/step - loss: 131.2220\n",
            "Epoch 23/50\n",
            "23/23 [==============================] - 0s 1ms/step - loss: 126.1297\n",
            "Epoch 24/50\n",
            "23/23 [==============================] - 0s 1ms/step - loss: 120.9604\n",
            "Epoch 25/50\n",
            "23/23 [==============================] - 0s 1ms/step - loss: 122.9353\n",
            "Epoch 26/50\n",
            "23/23 [==============================] - 0s 1ms/step - loss: 119.0491\n",
            "Epoch 27/50\n",
            "23/23 [==============================] - 0s 1ms/step - loss: 116.6673\n",
            "Epoch 28/50\n",
            "23/23 [==============================] - 0s 1ms/step - loss: 105.5710\n",
            "Epoch 29/50\n",
            "23/23 [==============================] - 0s 1ms/step - loss: 120.0277\n",
            "Epoch 30/50\n",
            "23/23 [==============================] - 0s 1ms/step - loss: 122.9413\n",
            "Epoch 31/50\n",
            "23/23 [==============================] - 0s 1ms/step - loss: 116.5782\n",
            "Epoch 32/50\n",
            "23/23 [==============================] - 0s 1ms/step - loss: 122.7516\n",
            "Epoch 33/50\n",
            "23/23 [==============================] - 0s 1ms/step - loss: 119.4858\n",
            "Epoch 34/50\n",
            "23/23 [==============================] - 0s 1ms/step - loss: 113.2839\n",
            "Epoch 35/50\n",
            "23/23 [==============================] - 0s 1ms/step - loss: 105.4644\n",
            "Epoch 36/50\n",
            "23/23 [==============================] - 0s 1ms/step - loss: 113.1529\n",
            "Epoch 37/50\n",
            "23/23 [==============================] - 0s 1ms/step - loss: 120.4726\n",
            "Epoch 38/50\n",
            "23/23 [==============================] - 0s 1ms/step - loss: 102.1477\n",
            "Epoch 39/50\n",
            "23/23 [==============================] - 0s 1ms/step - loss: 115.2398\n",
            "Epoch 40/50\n",
            "23/23 [==============================] - 0s 2ms/step - loss: 114.3601\n",
            "Epoch 41/50\n",
            "23/23 [==============================] - 0s 1ms/step - loss: 116.3798\n",
            "Epoch 42/50\n",
            "23/23 [==============================] - 0s 1ms/step - loss: 118.5488\n",
            "Epoch 43/50\n",
            "23/23 [==============================] - 0s 1ms/step - loss: 112.0085\n",
            "Epoch 44/50\n",
            "23/23 [==============================] - 0s 2ms/step - loss: 111.1219\n",
            "Epoch 45/50\n",
            "23/23 [==============================] - 0s 1ms/step - loss: 104.3190\n",
            "Epoch 46/50\n",
            "23/23 [==============================] - 0s 1ms/step - loss: 113.7142\n",
            "Epoch 47/50\n",
            "23/23 [==============================] - 0s 1ms/step - loss: 107.6640\n",
            "Epoch 48/50\n",
            "23/23 [==============================] - 0s 1ms/step - loss: 101.3388\n",
            "Epoch 49/50\n",
            "23/23 [==============================] - 0s 1ms/step - loss: 105.7932\n",
            "Epoch 50/50\n",
            "23/23 [==============================] - 0s 1ms/step - loss: 110.1396\n"
          ],
          "name": "stdout"
        },
        {
          "output_type": "execute_result",
          "data": {
            "text/plain": [
              "<tensorflow.python.keras.callbacks.History at 0x7fa5493a80b8>"
            ]
          },
          "metadata": {
            "tags": []
          },
          "execution_count": 18
        }
      ]
    },
    {
      "cell_type": "code",
      "metadata": {
        "colab": {
          "base_uri": "https://localhost:8080/"
        },
        "id": "AJV0wSK2hPYv",
        "outputId": "28bdcdc3-9589-46a7-d7b2-ed9de0c60ad1"
      },
      "source": [
        "loss_val = model.evaluate(X_test, y_test)\n",
        "y_pred = model.predict(X_test)\n",
        "loss_val"
      ],
      "execution_count": 19,
      "outputs": [
        {
          "output_type": "stream",
          "text": [
            "10/10 [==============================] - 0s 1ms/step - loss: 112.7722\n"
          ],
          "name": "stdout"
        },
        {
          "output_type": "execute_result",
          "data": {
            "text/plain": [
              "112.77216339111328"
            ]
          },
          "metadata": {
            "tags": []
          },
          "execution_count": 19
        }
      ]
    },
    {
      "cell_type": "code",
      "metadata": {
        "colab": {
          "base_uri": "https://localhost:8080/"
        },
        "id": "qXD7kJ6phPYw",
        "outputId": "e4dea6d8-9bc9-454f-a50f-3e3f89e5997a"
      },
      "source": [
        "from sklearn.metrics import mean_squared_error\n",
        "mean_square_error = mean_squared_error(y_test, y_pred)\n",
        "mean = np.mean(mean_square_error)\n",
        "standard_deviation = np.std(mean_square_error)\n",
        "print(mean, standard_deviation)"
      ],
      "execution_count": 20,
      "outputs": [
        {
          "output_type": "stream",
          "text": [
            "112.7721585714648 0.0\n"
          ],
          "name": "stdout"
        }
      ]
    },
    {
      "cell_type": "code",
      "metadata": {
        "colab": {
          "base_uri": "https://localhost:8080/"
        },
        "id": "Lsqn-GsvhPYw",
        "outputId": "ffc5e5d2-a9e0-4740-bb1e-68d21b58cbb8"
      },
      "source": [
        "\n",
        "total_mean_squared_errors = 50\n",
        "epochs = 50\n",
        "mean_squared_errors = []\n",
        "for i in range(0, total_mean_squared_errors):\n",
        "    X_train, X_test, y_train, y_test = train_test_split(predictors, target, test_size=0.3, random_state=i)\n",
        "    model.fit(X_train, y_train, epochs=epochs, verbose=0)\n",
        "    MSE = model.evaluate(X_test, y_test, verbose=0)\n",
        "    print(\"MSE \"+str(i+1)+\": \"+str(MSE))\n",
        "    y_pred = model.predict(X_test)\n",
        "    mean_square_error = mean_squared_error(y_test, y_pred)\n",
        "    mean_squared_errors.append(mean_square_error)\n",
        "\n",
        "mean_squared_errors = np.array(mean_squared_errors)\n",
        "mean = np.mean(mean_squared_errors)\n",
        "standard_deviation = np.std(mean_squared_errors)\n",
        "\n",
        "print('\\n')\n",
        "print(\"Below is the mean and standard deviation of \" +str(total_mean_squared_errors) + \" .Total number of epochs for each training is: \" +str(epochs) + \"\\n\")\n",
        "print(\"Mean: \"+str(mean))\n",
        "print(\"Standard Deviation: \"+str(standard_deviation))"
      ],
      "execution_count": 21,
      "outputs": [
        {
          "output_type": "stream",
          "text": [
            "MSE 1: 94.2390365600586\n",
            "MSE 2: 119.77278137207031\n",
            "MSE 3: 108.01673889160156\n",
            "MSE 4: 115.9453125\n",
            "MSE 5: 65.15946197509766\n",
            "MSE 6: 52.69874572753906\n",
            "MSE 7: 62.07844161987305\n",
            "MSE 8: 48.870792388916016\n",
            "MSE 9: 52.71780014038086\n",
            "MSE 10: 51.92514419555664\n",
            "MSE 11: 46.36767578125\n",
            "MSE 12: 43.061588287353516\n",
            "MSE 13: 54.29918670654297\n",
            "MSE 14: 51.461055755615234\n",
            "MSE 15: 45.57295608520508\n",
            "MSE 16: 43.60060119628906\n",
            "MSE 17: 48.97574234008789\n",
            "MSE 18: 48.7686882019043\n",
            "MSE 19: 42.251224517822266\n",
            "MSE 20: 45.73836898803711\n",
            "MSE 21: 41.34002685546875\n",
            "MSE 22: 49.49197769165039\n",
            "MSE 23: 41.5085563659668\n",
            "MSE 24: 45.89765930175781\n",
            "MSE 25: 48.20442199707031\n",
            "MSE 26: 52.761959075927734\n",
            "MSE 27: 48.0963020324707\n",
            "MSE 28: 44.8057746887207\n",
            "MSE 29: 52.33241653442383\n",
            "MSE 30: 48.904541015625\n",
            "MSE 31: 53.01679611206055\n",
            "MSE 32: 42.309017181396484\n",
            "MSE 33: 47.725791931152344\n",
            "MSE 34: 47.31578826904297\n",
            "MSE 35: 45.058589935302734\n",
            "MSE 36: 54.9403076171875\n",
            "MSE 37: 49.8387451171875\n",
            "MSE 38: 51.20188522338867\n",
            "MSE 39: 50.85254669189453\n",
            "MSE 40: 42.52180480957031\n",
            "MSE 41: 54.061981201171875\n",
            "MSE 42: 43.270511627197266\n",
            "MSE 43: 46.059814453125\n",
            "MSE 44: 53.52860641479492\n",
            "MSE 45: 56.48585891723633\n",
            "MSE 46: 51.82490921020508\n",
            "MSE 47: 52.32766342163086\n",
            "MSE 48: 49.14554977416992\n",
            "MSE 49: 50.12379455566406\n",
            "MSE 50: 50.44926452636719\n",
            "\n",
            "\n",
            "Below is the mean and standard deviation of 50 .Total number of epochs for each training is: 50\n",
            "\n",
            "Mean: 54.13848366814705\n",
            "Standard Deviation: 17.230038022043367\n"
          ],
          "name": "stdout"
        }
      ]
    },
    {
      "cell_type": "code",
      "metadata": {
        "id": "wueGY406hPYx"
      },
      "source": [
        ""
      ],
      "execution_count": 21,
      "outputs": []
    }
  ]
}